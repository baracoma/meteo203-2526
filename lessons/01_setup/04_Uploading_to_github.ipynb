{
 "cells": [
  {
   "cell_type": "markdown",
   "id": "8ca717ee-af49-4493-9ecf-1d2360a01590",
   "metadata": {},
   "source": [
    "# 04_Uploading to github\n",
    "\n",
    "In this notebook, you will learn how to upload your file to your github repository. Before you proceed, make sure that this file exists: \n",
    "```\n",
    "meteo203-2526-lastname/exercises/meteo203-ex01-gettingstarted.ipynb\n",
    "```\n"
   ]
  },
  {
   "cell_type": "markdown",
   "id": "bd6f202b-c92c-473b-881e-5d307ae5af43",
   "metadata": {},
   "source": [
    "# Step 0. Create a .gitnigore file\n",
    "- Before we upload anything, it is good practice to create a `.gitignore` file to keep our repository clean.\n",
    "- Open up your favorite text editor (Notepad).\n",
    "- Paste the line below\n",
    "  ```bash\n",
    "  **.ipynb_checkpoints/\n",
    "  ```\n",
    "- Make sure that the file is named `.gitnignore` NOT `gitignore.txt`"
   ]
  },
  {
   "cell_type": "markdown",
   "id": "46caa65f-a7df-4e22-84a4-9e604778267b",
   "metadata": {
    "jp-MarkdownHeadingCollapsed": true
   },
   "source": [
    "### Step 1: Launch a terminal \n",
    "- You can choose either Anaconda Prompt or Jupyter Lab\n",
    "### Step 2: Navigate to your repository:\n",
    "  ```bash\n",
    "  cd meteo203-2526-lastname\n",
    "  ```\n",
    "  - Check folder status\n",
    "  ```bash\n",
    "  git status\n",
    "  ```\n",
    "- You should see a list of updated or untracked files\n",
    "### Step 3: Add the .gitignore file\n",
    "  ```bash\n",
    "  git add .gitignore\n",
    "  ```\n",
    "### STep  Go to exercises folder\n",
    "  ```bash\n",
    "  cd exercises\n",
    "  ```\n",
    "### Step 3: Add your new file to your tracked lists\n",
    "  ```bash\n",
    "  git add meteo203-ex01-gettingstarted.ipynb\n",
    "  git status # always check if it's now added\n",
    "  ```\n",
    "### Step 4: Commit and push your changes\n",
    "  ```bash\n",
    "  git commit -m \"Insert your commit message here\"\n",
    "  git push origin main\n",
    "  ```\n",
    "\n",
    "### Step 5: Check your git repository online\n",
    "\n"
   ]
  }
 ],
 "metadata": {
  "kernelspec": {
   "display_name": "Python 3 (ipykernel)",
   "language": "python",
   "name": "python3"
  },
  "language_info": {
   "codemirror_mode": {
    "name": "ipython",
    "version": 3
   },
   "file_extension": ".py",
   "mimetype": "text/x-python",
   "name": "python",
   "nbconvert_exporter": "python",
   "pygments_lexer": "ipython3",
   "version": "3.13.0"
  }
 },
 "nbformat": 4,
 "nbformat_minor": 5
}
