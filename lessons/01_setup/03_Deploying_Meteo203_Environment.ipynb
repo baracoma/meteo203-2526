{
 "cells": [
  {
   "cell_type": "markdown",
   "id": "a80bd85a-9b64-4646-b38b-17b3e491be27",
   "metadata": {},
   "source": [
    "# 03_Deploying the Meteo 203 Environment\n",
    "\n",
    "In this notebook, you will learn how to deploy the `meteo203` environment, which is a custom Python environment set up with all the necessary packages for this course. You'll also practice cloning this notebook from the master repository and setting up the environment on your local system.\n",
    "\n",
    "### Objectives\n",
    "- Clone the environment setup notebook from the course repository.\n",
    "- Deploy the `meteo203` environment using `conda`.\n",
    "- Test the environment to ensure all required packages are installed and functioning correctly.\n"
   ]
  },
  {
   "cell_type": "markdown",
   "id": "f4bf143d-9014-4886-b10f-3dbfa5acc3e3",
   "metadata": {
    "tags": []
   },
   "source": [
    "## Step 1: Clone the meteo203-2526 repository\n",
    "\n",
    "If you're reading this from the github page, you should clone this repository locally first. If you have already cloned this repository, proceed to Step 2.\n",
    "\n",
    "### Instructions:\n",
    "\n",
    "1. **Open the Terminal**:  \n",
    "    - Open the terminal in JupyterHub.  \n",
    "2. **Navigate to Your Desired Directory**:\n",
    "    - Use the `cd` command to navigate to the directory where you want to clone the repository.\n",
    "    ```bash\n",
    "\n",
    "    cd ~/my_courses/\n",
    "\n",
    "\n",
    "    ```\n",
    "\n",
    "3. **Clone the Repository:**\n",
    "    - Run the following command to clone the course repository:\n",
    "\n",
    "    ```bash\n",
    "\n",
    "    git clone git@github.com:baracoma/meteo203-2526.git\n",
    "\n",
    "\n",
    "    ```\n",
    "4. **Navigate to the Cloned Directory:**\n",
    "    - After cloning, navigate to the directory:\n",
    "    ```bash\n",
    "\n",
    "    cd meteo203-2526/\n",
    "\n",
    "\n",
    "    ```\n"
   ]
  },
  {
   "cell_type": "markdown",
   "id": "4b4cec3c-e126-438b-a811-de966f4a5613",
   "metadata": {
    "tags": []
   },
   "source": [
    "## Step 2: Deploy the `meteo203` Environment\n",
    "\n",
    "Now that you've cloned the repository, let's set up the `meteo203` environment using the provided `environment.yml` file. This method ensures that all required packages are installed with a single command.\n",
    "\n",
    "### Instructions:\n",
    "\n",
    "1. **Create the Environment**:\n",
    "   - In the terminal, navigate to the directory where the `environment.yml` file is located. Then, create the `meteo203` environment by running:\n",
    "\n",
    "   ```bash\n",
    "   \n",
    "   conda env create -f environment.yml\n",
    "   \n",
    "   \n",
    "   ```\n",
    "   - This will take a while depending on your internet connection.\n",
    "2. **Activate the Environment**:\n",
    "    - After the environment is created, activate it:\n",
    "    \n",
    "    ```bash\n",
    "    \n",
    "    conda activate meteo203\n",
    "    \n",
    "    \n",
    "    ```\n",
    "3. **Verify the Installation**:\n",
    "    - Verify that the environment has been set up correctly by listing the installed packages:\n",
    "    ```bash\n",
    "    \n",
    "    conda list\n",
    "    \n",
    "    \n",
    "    ```"
   ]
  },
  {
   "cell_type": "markdown",
   "id": "8d54515d-874f-40c1-8d04-9070591f52b3",
   "metadata": {},
   "source": [
    "# Step 3: Add the new environment in Jupyter Lab\n",
    "\n",
    "Now that you've created the meteo203 environment, we need to add this to the jupyter lab interface.\n",
    "\n",
    "I recommend doing this in a **separate anaconda prompt**, i.e. shutdown your jupyter lab first. \n",
    "\n",
    "### Instructions:\n",
    "1. **Launch an anaconda prompt**\n",
    "2. **Check available environments**\n",
    "   - Make sure that meteo203 exists\n",
    "   ```bash\n",
    "   \n",
    "   conda env list\n",
    "   \n",
    "   ```\n",
    "   <br>\n",
    "4. **Install the environment to your jupyter lab**:\n",
    "   - In the terminal, run the following commands\n",
    "\n",
    "   ```bash\n",
    "   \n",
    "   conda activate meteo203 # switch to the meteo203 environment\n",
    "   conda install ipykernel # install ipykernel\n",
    "   python -m ipykernel install --user --name meteo203 --display-name \"Python (meteo203)\" # install the kernel to jupyter lab\n",
    "   ```\n",
    "   <br>\n",
    "5. **Restart your jupyter lab instance**\n",
    "   ```bash\n",
    "   conda activate base # IMPORTANT: switch back to base\n",
    "   jupyter lab\n",
    "   ```"
   ]
  },
  {
   "cell_type": "markdown",
   "id": "7a591548-ab1f-42b5-bfe5-449ded3f4b0c",
   "metadata": {},
   "source": [
    "## Step 4: Test the Environment\n",
    "\n",
    "To ensure that your environment is working correctly, let's run a simple script to plot a sine wave.\n",
    "\n",
    "### Instructions:\n",
    "\n",
    "1. **Open a New Jupyter Notebook**:\n",
    "   - In Jupyter Lab, navigate to your repository\n",
    "   - Create a new folder (exercises) and a new notebook (meteo203-ex01-gettingstarted.ipynb) and select the `meteo203` environment as the kernel.\n",
    "\n",
    "2. **Write the Code**:\n",
    "   - In the new notebook, enter the code below to plot a sine wave.\n",
    "   - **Hint**: You can right click on the tab, and then click \"New View for Notebook\" for a side by side tabbed experience.\n",
    "\n",
    "   ```python\n",
    "   \n",
    "   import numpy as np\n",
    "   import matplotlib.pyplot as plt\n",
    "\n",
    "   # Generate data\n",
    "   x = np.linspace(0, 2 * np.pi, 100)\n",
    "   y = np.sin(x)\n",
    "\n",
    "   # Plot the data\n",
    "   plt.plot(x, y)\n",
    "   plt.title('Sine Wave')\n",
    "   plt.xlabel('x')\n",
    "   plt.ylabel('sin(x)')\n",
    "   plt.show()\n",
    "   \n",
    "   \n",
    "   ```\n",
    "3. **Run the Code**:\n",
    "    - Run the notebook cell to generate the sine wave plot. If the plot appears correctly, your environment is set up and functioning as expected."
   ]
  },
  {
   "cell_type": "markdown",
   "id": "5010b150-49b6-41be-992c-18c23c668da2",
   "metadata": {
    "jp-MarkdownHeadingCollapsed": true
   },
   "source": [
    "## Final Notes \n",
    "\n",
    "Congratulations! You've successfully deployed the `meteo203` environment and verified that it works.\n",
    "\n"
   ]
  }
 ],
 "metadata": {
  "kernelspec": {
   "display_name": "Python 3 (ipykernel)",
   "language": "python",
   "name": "python3"
  },
  "language_info": {
   "codemirror_mode": {
    "name": "ipython",
    "version": 3
   },
   "file_extension": ".py",
   "mimetype": "text/x-python",
   "name": "python",
   "nbconvert_exporter": "python",
   "pygments_lexer": "ipython3",
   "version": "3.13.2"
  }
 },
 "nbformat": 4,
 "nbformat_minor": 5
}
