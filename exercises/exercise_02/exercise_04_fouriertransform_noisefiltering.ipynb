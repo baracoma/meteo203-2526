{
 "cells": [
  {
   "cell_type": "markdown",
   "id": "755799ac-7828-450e-8993-c7f1deea0c15",
   "metadata": {},
   "source": [
    "# Lab Exercise 04 (Optional): Fourier Transform and Filtering\n",
    "## Objective:\n",
    "\n",
    "In this lab, you will:\n",
    "\n",
    "1. Generate a synthetic Gaussian ripple pattern.\n",
    "2. Apply the Fast Fourier Transform (FFT) to the synthetic data and observe its frequency domain representation.\n",
    "3. Add regular horizontal scanlines to the data to simulate periodic noise.\n",
    "4. Apply FFT to the noisy data and compare the results\n",
    "5. Apply a filter in the frequency domain to remove the scanlines and restore the cleaned image.\n",
    "   \n",
    "**Answer** this notebook by updating the **Answers for Part. x** cell by **double clicking and typing your answers in a cell**. After finishing this notebook, upload in your github repository (**meteo203-2425-lastname/exercises/exercise_04_fouriertransform_noisefiltering.ipynb**)"
   ]
  },
  {
   "cell_type": "markdown",
   "id": "bfc0dec5-5989-4220-b323-90c159474380",
   "metadata": {},
   "source": [
    "### Part 1: From 2D sine wave to 3D ripple\n",
    "\n",
    "In this exercise, we simulate a 2D sinusoidal ripple (like ripples in a pond).\n",
    "\n",
    "- The parameter $f$ controls the frequency of the ripples (how many rings you see).\n",
    "- Larger $f$ → tighter, more frequent ripples.\n",
    "- Smaller $f$ → wider, smoother ripples.\n",
    "\n",
    "Try this:\n",
    "- Change the value of f and re-run the cell.\n",
    "- Observe how the ripple spacing changes."
   ]
  },
  {
   "cell_type": "code",
   "execution_count": null,
   "id": "2a23be85-4757-4e57-b9c4-46ded23a9dd1",
   "metadata": {},
   "outputs": [],
   "source": [
    "import numpy as np\n",
    "import matplotlib.pyplot as plt\n",
    "\n",
    "# Create a grid of points (like an image matrix)\n",
    "rows, cols = 256, 256  # Size of the synthetic image\n",
    "x = np.linspace(-5, 5, cols)\n",
    "y = np.linspace(-5, 5, rows)\n",
    "X, Y = np.meshgrid(x, y)\n",
    "# Generate ripple pattern using a 2D sinusoidal function\n",
    "f = 10\n",
    "ripple = np.sin(np.sqrt(X**2 + Y**2) * f)  # Adjust frequency of ripples with f\n",
    "\n",
    "plt.imshow(ripple, cmap='gray')\n",
    "plt.title('Ripple Pattern')\n",
    "plt.axis('off')\n",
    "plt.show()\n"
   ]
  },
  {
   "cell_type": "markdown",
   "id": "65192067-b48e-4373-ac44-7922d2af1db3",
   "metadata": {},
   "source": [
    "#### Questions:\n",
    "\n",
    "1. What kinds of real-world meteorological or oceanographic phenomena could this ripple pattern represent? (Hint: Think about waves that spread out in space — surface waves, atmospheric wave trains, etc.)\n"
   ]
  },
  {
   "cell_type": "markdown",
   "id": "bc8307b9-cbe7-453b-9ff4-f06bb0bf197e",
   "metadata": {},
   "source": []
  },
  {
   "cell_type": "markdown",
   "id": "ce45241b-ba26-4aee-847a-ddb8c83541f2",
   "metadata": {},
   "source": [
    "---\n",
    "\n",
    "### Part 2: Ripples in Frequency Space (FFT)\n",
    "\n",
    "The ripple pattern you generated looks simple, but it’s actually made up of many tiny waves.\n",
    "\n",
    "To “see” those hidden waves, we use the Fourier Transform (FFT). This turns the ripple from space domain (the picture you plotted) into frequency domain (what frequencies make up the picture). \n",
    "\n",
    "- Bright spots in the FFT image correspond to strong frequency components.\n",
    "- The farther from the center, the higher the frequency (more ripples per unit distance).\n",
    "\n",
    "Try this:\n",
    "- Run the code below once. What do you observe?\n",
    "- Change f amdd re-run this FFT.\n",
    "- How does the FFT pattern change?\n"
   ]
  },
  {
   "cell_type": "code",
   "execution_count": null,
   "id": "20ac6a6b-6872-47eb-a1a8-16a2cad51039",
   "metadata": {},
   "outputs": [],
   "source": [
    "from numpy.fft import fft2, fftshift\n",
    "\n",
    "# Define the ripple\n",
    "# Generate ripple pattern using a 2D sinusoidal function\n",
    "f = 5\n",
    "ripple = np.sin(np.sqrt(X**2 + Y**2) * f)  # Adjust frequency of ripples with f\n",
    "\n",
    "# 2D Fourier Transform of the ripple\n",
    "fft_ripple = np.fft.fft2(ripple)\n",
    "fft_shift = np.fft.fftshift(fft_ripple)  # Shift zero frequency to center\n",
    "magnitude_spectrum = np.abs(fft_shift)\n",
    "\n",
    "plt.figure(figsize=(12,5))\n",
    "\n",
    "# Original ripple\n",
    "plt.subplot(1,2,1)\n",
    "plt.imshow(ripple, cmap='gray')\n",
    "plt.title('Ripple Pattern')\n",
    "plt.axis('off')\n",
    "\n",
    "# Fourier spectrum\n",
    "plt.subplot(1,2,2)\n",
    "plt.imshow(np.log1p(magnitude_spectrum), cmap='inferno')\n",
    "plt.title('FFT (Frequency Space)')\n",
    "plt.axis('off')\n",
    "\n",
    "plt.show()\n"
   ]
  },
  {
   "cell_type": "markdown",
   "id": "06e5bf55-3d65-4097-ba79-e34b04fd8659",
   "metadata": {},
   "source": [
    "#### Questions:\n",
    "\n",
    "2. How many bright “rings” or spots do you see in the frequency plot?\n",
    "3. Why do they move outward when you increase f?\n",
    "4. Can you think of a real-world example where scientists might want to look at the “hidden frequencies” of waves (in the ocean, atmosphere, or climate data)?"
   ]
  },
  {
   "cell_type": "markdown",
   "id": "d7fbadbc-b4b8-4d42-98fd-58c77e60ce80",
   "metadata": {},
   "source": []
  },
  {
   "cell_type": "code",
   "execution_count": null,
   "id": "ed11ed1b-67a1-4752-89e4-7af448310d3f",
   "metadata": {},
   "outputs": [],
   "source": [
    "import numpy as np\n",
    "import matplotlib.pyplot as plt\n",
    "\n",
    "# Create a grid of points (like an image matrix)\n",
    "rows, cols = 256, 256  # Size of the synthetic image\n",
    "x = np.linspace(-5, 5, cols)\n",
    "y = np.linspace(-5, 5, rows)\n",
    "X, Y = np.meshgrid(x, y)\n",
    "\n",
    "# Generate ripple pattern using a 2D sinusoidal function\n",
    "f = 5\n",
    "ripple = np.sin(np.sqrt(X**2 + Y**2) * f)  # Adjust frequency of ripples with multiplier\n",
    "\n",
    "# Generate a 2D Gaussian envelope\n",
    "sigma = 1.5  # Standard deviation of the Gaussian\n",
    "gaussian_envelope = np.exp(-(X**2 + Y**2) / (2 * sigma**2))\n",
    "\n",
    "# Apply the Gaussian envelope to the ripple pattern\n",
    "gaussian_ripple = ripple * gaussian_envelope\n",
    "\n",
    "# Plot the synthetic Gaussian-weighted ripple data\n",
    "plt.imshow(gaussian_ripple, cmap='gray')\n",
    "plt.title('Gaussian-Weighted Ripple Pattern')\n",
    "plt.axis('off')\n",
    "plt.show()\n"
   ]
  },
  {
   "cell_type": "markdown",
   "id": "4f33a8a5-15a8-4518-beb6-6c630720c839",
   "metadata": {},
   "source": [
    "#### Questions:\n",
    "\n",
    "1. How does the Gaussian weighting ($sigma$) affect the appearance of the ripple pattern?\n",
    "2. In what types of meteorological or geophysical data might you encounter a similar Gaussian distribution?"
   ]
  },
  {
   "cell_type": "code",
   "execution_count": null,
   "id": "756ae216-c9f0-466e-82c1-82b28659eb40",
   "metadata": {},
   "outputs": [],
   "source": [
    "from numpy.fft import fft2, fftshift\n",
    "\n",
    "# Apply 2D FFT to the Gaussian-weighted ripple data\n",
    "fft_gaussian_ripple = fft2(gaussian_ripple)\n",
    "\n",
    "# Shift the zero-frequency component to the center of the spectrum\n",
    "fft_gaussian_ripple_shifted = fftshift(fft_gaussian_ripple)\n",
    "\n",
    "# Compute the magnitude spectrum\n",
    "magnitude_spectrum_gaussian_ripple = np.log(np.abs(fft_gaussian_ripple_shifted) + 1)\n",
    "\n",
    "# Plot the magnitude spectrum of the FFT of the Gaussian ripple\n",
    "plt.imshow(magnitude_spectrum_gaussian_ripple, cmap='gray')\n",
    "plt.title('FFT Magnitude Spectrum of Gaussian Ripple Pattern')\n",
    "plt.axis('off')\n",
    "plt.show()\n"
   ]
  },
  {
   "cell_type": "code",
   "execution_count": null,
   "id": "ce79adea-7a5a-4579-94b1-ba9e7c2bf4cf",
   "metadata": {},
   "outputs": [],
   "source": []
  },
  {
   "cell_type": "code",
   "execution_count": null,
   "id": "c2a34e2a-73dd-4969-9255-6b18483ba7d4",
   "metadata": {},
   "outputs": [],
   "source": [
    "from numpy.fft import ifft2, ifftshift\n",
    "\n",
    "# Perform inverse FFT shift to move the zero-frequency component back to its original position\n",
    "ifft_shifted = ifftshift(fft_gaussian_ripple_shifted)\n",
    "\n",
    "# Apply the inverse FFT to restore the image from the frequency domain\n",
    "restored_gaussian_image = np.abs(ifft2(ifft_shifted))\n",
    "\n",
    "# Display the restored image\n",
    "plt.imshow(restored_gaussian_image, cmap='gray')\n",
    "plt.title('Restored Gaussian Ripple Image Using IFFT')\n",
    "plt.axis('off')\n",
    "plt.show()\n"
   ]
  },
  {
   "cell_type": "code",
   "execution_count": null,
   "id": "e0e26a33-a05d-40ed-b530-895acb1f9d53",
   "metadata": {},
   "outputs": [],
   "source": [
    "from numpy.fft import ifft2, ifftshift\n",
    "\n",
    "# Perform inverse FFT shift to move the zero-frequency component back to its original position\n",
    "ifft_shifted = ifftshift(fft_gaussian_ripple_shifted)\n",
    "\n",
    "# Apply the inverse FFT to restore the image from the frequency domain\n",
    "restored_gaussian_image = np.abs(ifft2(ifft_shifted))\n",
    "\n",
    "# Display the restored image\n",
    "plt.imshow(restored_gaussian_image, cmap='gray')\n",
    "plt.title('Restored Gaussian Ripple Image Using IFFT')\n",
    "plt.axis('off')\n",
    "plt.show()\n"
   ]
  },
  {
   "cell_type": "markdown",
   "id": "04756e20-5a4e-4c94-8293-7ac34e40a121",
   "metadata": {},
   "source": [
    "---\n",
    "\n",
    "### Part 3 — Add “scanlines” (striping) like a satellite artifact\n",
    "#### Task: Add Regular Horizontal Scanlines\n",
    "\n",
    "Real sensors often produce striping (scanlines): periodic lines across the image due to detector gain differences or readout noise.\n",
    "We’ll simulate this as a periodic vertical stripe (varying along x, repeated along y).\n",
    "\n",
    "- $stripe\\_freq$ controls how many stripes across the image.\n",
    "\n",
    "- $stripe\\_amp$ controls their strength."
   ]
  },
  {
   "cell_type": "code",
   "execution_count": null,
   "id": "3f4fa437-3396-477c-857c-16a1608e5438",
   "metadata": {},
   "outputs": [],
   "source": [
    "import numpy as np\n",
    "import matplotlib.pyplot as plt\n",
    "\n",
    "# --- base ripple from Part 1 ---\n",
    "rows, cols = 256, 256\n",
    "x = np.linspace(-5, 5, cols)\n",
    "y = np.linspace(-5, 5, rows)\n",
    "X, Y = np.meshgrid(x, y)\n",
    "\n",
    "f = 5  # ripple frequency\n",
    "ripple = np.sin(np.sqrt(X**2 + Y**2) * f)\n",
    "\n",
    "# --- add scanlines (vertical stripes) ---\n",
    "stripe_freq = 12          # number of stripes across the width\n",
    "stripe_amp  = 0.35        # strength of the stripes\n",
    "\n",
    "col_idx = np.arange(cols)\n",
    "vertical_stripe = np.sin(2*np.pi * stripe_freq * col_idx / cols)  # 1D pattern across x\n",
    "vertical_stripe_2d = np.tile(vertical_stripe, (rows, 1))          # repeat down the rows\n",
    "\n",
    "ripple_striped = ripple + stripe_amp * vertical_stripe_2d\n",
    "\n",
    "plt.figure(figsize=(10,4))\n",
    "plt.subplot(1,2,1)\n",
    "plt.imshow(ripple, cmap='gray')\n",
    "plt.title('Clean Ripple')\n",
    "plt.axis('off')\n",
    "\n",
    "plt.subplot(1,2,2)\n",
    "plt.imshow(ripple_striped, cmap='gray')\n",
    "plt.title('Ripple + Scanlines')\n",
    "plt.axis('off')\n",
    "plt.show()\n"
   ]
  },
  {
   "cell_type": "markdown",
   "id": "83fda840-2411-450f-8f7f-e73aa6d9780d",
   "metadata": {},
   "source": [
    "---\n",
    "\n",
    "### Part 4 — Look at the stripes in frequency space (FFT)\n",
    "\n",
    "In frequency space, periodic stripes appear as narrow spikes along the axes.\n",
    "\n",
    "- Vertical stripes in the image → spikes along the horizontal (kx) axis in the FFT.\n",
    "- The distance of spikes from the center ≈ the stripe frequency."
   ]
  },
  {
   "cell_type": "code",
   "execution_count": null,
   "id": "351f3145-fd0d-44e7-a6b7-764677a3d18c",
   "metadata": {},
   "outputs": [],
   "source": [
    "def show_fft(img, title='FFT (log magnitude)'):\n",
    "    F = np.fft.fft2(img)\n",
    "    F_shift = np.fft.fftshift(F)\n",
    "    mag = np.log1p(np.abs(F_shift))\n",
    "    plt.imshow(mag, cmap='inferno')\n",
    "    plt.title(title)\n",
    "    plt.axis('off')\n",
    "    return F, F_shift\n",
    "\n",
    "plt.figure(figsize=(12,4))\n",
    "plt.subplot(1,2,1); _=show_fft(ripple, 'Clean Ripple FFT')\n",
    "plt.subplot(1,2,2); _=show_fft(ripple_striped, 'Striped Ripple FFT')\n",
    "plt.show()\n"
   ]
  },
  {
   "cell_type": "markdown",
   "id": "45bb3af3-f979-45a1-8a94-2d5c7d91496e",
   "metadata": {},
   "source": [
    "### Questions:\n",
    "\n",
    "1. Compare the two figures in frequency space above. Can you tell the difference? What do the small bright dots represent?"
   ]
  },
  {
   "cell_type": "markdown",
   "id": "40a45016-ecf6-4870-901f-e74172ea7692",
   "metadata": {},
   "source": []
  },
  {
   "cell_type": "markdown",
   "id": "6f79dd38-8cc2-40a6-9012-7f743508a9df",
   "metadata": {},
   "source": [
    "---\n",
    "### Part 5 — Build a notch filter to remove the stripe spikes\n",
    "We’ll build a notch filter that zeros out the stripe spikes in FFT space.\n",
    "- Use $stripe\\_freq$ to locate the spikes at ±kx.\n",
    "- $notch\\_halfwidth$ sets how wide the notch is (a few pixels is usually enough).\n",
    "Keep the center (DC) untouched."
   ]
  },
  {
   "cell_type": "code",
   "execution_count": null,
   "id": "3fd757fd-04ac-4df0-a733-ccd889fd2e03",
   "metadata": {},
   "outputs": [],
   "source": [
    "# Frequency coordinates (in pixels, centered)\n",
    "ky = np.fft.fftshift(np.fft.fftfreq(rows)) * rows\n",
    "kx = np.fft.fftshift(np.fft.fftfreq(cols)) * cols\n",
    "KX, KY = np.meshgrid(kx, ky)\n",
    "\n",
    "# Expected spike positions for vertical stripes (appear along kx axis near ±stripe_freq_alias)\n",
    "# Because we constructed stripes as sin(2π * stripe_freq * x / cols), the spike index is near ±stripe_freq\n",
    "target = stripe_freq          # approximate location in kx (pixels)\n",
    "notch_halfwidth = 2           # +/- pixels around the spike to zero out\n",
    "dc_keep_radius = 3            # keep a small circle around DC (0,0)\n",
    "\n",
    "# Start with all-pass mask\n",
    "mask = np.ones((rows, cols), dtype=float)\n",
    "\n",
    "# Helper: zero a vertical band around kx = +target and -target (|kx - target| <= hw)\n",
    "def notch_out(mask, KX, target, hw):\n",
    "    band_pos = np.abs(KX - target) <= hw\n",
    "    band_neg = np.abs(KX + target) <= hw\n",
    "    mask[band_pos] = 0.0\n",
    "    mask[band_neg] = 0.0\n",
    "\n",
    "# Apply notches (avoid wiping the DC neighborhood)\n",
    "notch_out(mask, KX, target, notch_halfwidth)\n",
    "\n",
    "# Optional: protect a tiny DC disk\n",
    "dc = (KX**2 + KY**2) <= dc_keep_radius**2\n",
    "mask[dc] = 1.0\n",
    "\n",
    "plt.figure(figsize=(5,4))\n",
    "plt.imshow(mask, cmap='gray')\n",
    "plt.title('Notch Mask')\n",
    "plt.axis('off')\n",
    "plt.show()\n"
   ]
  },
  {
   "cell_type": "markdown",
   "id": "ed3e5dad-3b1b-4560-a4d2-0e00553a0b84",
   "metadata": {},
   "source": [
    "### Part 6 — Filter in frequency space, then IFFT to recover"
   ]
  },
  {
   "cell_type": "code",
   "execution_count": null,
   "id": "5df5ec8b-752b-4777-9b6c-516f16935eab",
   "metadata": {},
   "outputs": [],
   "source": [
    "# FFT of striped image\n",
    "F = np.fft.fft2(ripple_striped)\n",
    "F_shift = np.fft.fftshift(F)\n",
    "\n",
    "# Apply mask\n",
    "F_shift_filtered = F_shift * mask\n",
    "\n",
    "# Back to spatial domain\n",
    "F_filtered = np.fft.ifftshift(F_shift_filtered)\n",
    "recovered = np.fft.ifft2(F_filtered).real\n",
    "\n",
    "plt.figure(figsize=(12,6))\n",
    "plt.subplot(2,3,1); plt.imshow(ripple_striped, cmap='gray'); plt.title('Input (Striped)'); plt.axis('off')\n",
    "plt.subplot(2,3,2); plt.imshow(np.log1p(np.abs(F_shift)), cmap='inferno'); plt.title('FFT: Striped'); plt.axis('off')\n",
    "plt.subplot(2,3,3); plt.imshow(mask, cmap='gray'); plt.title('Notch Mask'); plt.axis('off')\n",
    "plt.subplot(2,3,4); plt.imshow(recovered, cmap='gray'); plt.title('Recovered (IFFT)'); plt.axis('off')\n",
    "plt.subplot(2,3,5); plt.imshow(np.log1p(np.abs(F_shift_filtered)), cmap='inferno'); plt.title('FFT: Filtered'); plt.axis('off')\n",
    "plt.subplot(2,3,6); plt.imshow(ripple, cmap='gray'); plt.title('Reference (Clean)'); plt.axis('off')\n",
    "plt.tight_layout()\n",
    "plt.show()\n"
   ]
  },
  {
   "cell_type": "markdown",
   "id": "f9893494-7228-4149-808a-5aaac3bcb7dd",
   "metadata": {},
   "source": [
    "### Questions:\n",
    "\n",
    "2. Why is a vertical band-stop filter effective in removing horizontal scanlines in the frequency domain?\n",
    "3. How might this approach of Fourier filtering be applied in real-world scenarios, such as removing periodic noise from meteorological or satellite data?"
   ]
  },
  {
   "cell_type": "code",
   "execution_count": null,
   "id": "f300940f-d3df-4677-a67d-32205f7d3bbf",
   "metadata": {},
   "outputs": [],
   "source": [
    "from numpy.fft import ifft2, ifftshift\n",
    "\n",
    "# Apply inverse shift to move the frequency components back\n",
    "ifft_shifted = ifftshift(filtered_fft_gaussian_scanlines)\n",
    "\n",
    "# Apply inverse FFT to get the filtered image\n",
    "filtered_gaussian_image = np.abs(ifft2(ifft_shifted))\n",
    "\n",
    "# Normalize the restored image (0 to 1 range)\n",
    "filtered_gaussian_image_normalized = (filtered_gaussian_image - np.min(filtered_gaussian_image)) / (np.max(filtered_gaussian_image) - np.min(filtered_gaussian_image))\n",
    "\n",
    "# Optionally, brighten the image by scaling pixel values (e.g., multiply by a constant)\n",
    "brightness_factor = 1.5\n",
    "filtered_gaussian_image_brightened = np.clip(filtered_gaussian_image_normalized * brightness_factor, 0, 1)\n",
    "\n",
    "# Display the brightened restored image\n",
    "plt.imshow(filtered_gaussian_image_brightened, cmap='gray')\n",
    "plt.title('Restored and Brightened Gaussian Ripple Image After Removing Scanlines')\n",
    "plt.axis('off')\n",
    "plt.show()\n"
   ]
  },
  {
   "cell_type": "markdown",
   "id": "66d0e3ea-1a60-4aeb-b5bc-9de73b75f65c",
   "metadata": {},
   "source": []
  }
 ],
 "metadata": {
  "kernelspec": {
   "display_name": "Python (meteo203)",
   "language": "python",
   "name": "meteo203"
  },
  "language_info": {
   "codemirror_mode": {
    "name": "ipython",
    "version": 3
   },
   "file_extension": ".py",
   "mimetype": "text/x-python",
   "name": "python",
   "nbconvert_exporter": "python",
   "pygments_lexer": "ipython3",
   "version": "3.10.14"
  }
 },
 "nbformat": 4,
 "nbformat_minor": 5
}
