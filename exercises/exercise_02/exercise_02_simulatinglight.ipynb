{
 "cells": [
  {
   "cell_type": "markdown",
   "id": "76c569df-82fa-45cf-a183-697ecca27e74",
   "metadata": {},
   "source": [
    "# Lab Exercise 02: Exploring Fourier Decomposition and Visible Light\n",
    "\n",
    "## Objective:\n",
    "In this lab, you will use Python to explore how light waves can be represented by sine and cosine functions, and how Fourier decomposition can be used to break down complex signals into their component frequencies. You will also adjust the time axis to see how it affects the representation of waves.\n",
    "\n",
    "**Answer** this notebook by updating the **Answers for Part. x** cell by **double clicking and typing your answers in a cell**. After finishing this notebook, upload in your github repository (**meteo203-2526-lastname/exercises/exercise_02_simulatinglight.ipynb**)"
   ]
  },
  {
   "cell_type": "markdown",
   "id": "18c5e8cf-89a9-4f94-b7fa-4dcc9dda49e0",
   "metadata": {},
   "source": [
    "---\n",
    "## Part 1: Generating a Single Wavelength Light Wave\n",
    "\n",
    "**Task**: Use the code below to generate and plot a sine wave representing a single light wave."
   ]
  },
  {
   "cell_type": "code",
   "execution_count": null,
   "id": "18dd2837-f0d7-4796-bf6f-124e39b03112",
   "metadata": {},
   "outputs": [],
   "source": [
    "import numpy as np\n",
    "import matplotlib.pyplot as plt\n",
    "\n",
    "# Define parameters\n",
    "A = 1  # Amplitude\n",
    "f = 5  # Frequency\n",
    "time_start = 0\n",
    "time_end = 1\n",
    "t = np.linspace(time_start, time_end, 500)  # Time array (0 to 2pi)\n",
    "\n",
    "# Generate the sine wave for a single wavelength\n",
    "wave = A * np.sin(2 * np.pi * f * t)\n",
    "\n",
    "# Plot the wave\n",
    "plt.plot(t, wave)\n",
    "plt.title(\"Single Wavelength Light Wave\")\n",
    "plt.xlabel(\"Time\")\n",
    "plt.ylabel(\"Amplitude\")\n",
    "plt.grid(True)\n",
    "plt.show()\n"
   ]
  },
  {
   "cell_type": "markdown",
   "id": "5f4469ee-b43b-443e-a9b5-c4822942f386",
   "metadata": {},
   "source": [
    "### Questions for Part 1:\n",
    "\n",
    "1. How many oscillations (peaks) do you see in the plot? What does the frequency ($f=1$) represent?\n",
    "2. What happens if you increase the frequency to 10? Try changing $f=5$ in the code and re-run the cell."
   ]
  },
  {
   "cell_type": "markdown",
   "id": "cac204cc-a91a-4378-9d8b-56c7f61ac8a8",
   "metadata": {},
   "source": [
    "### Answers for Part 1:\n",
    "\n",
    "Edit and enter your answer here"
   ]
  },
  {
   "cell_type": "markdown",
   "id": "20bcf907-4b32-4e12-a93a-389e4b07f9f7",
   "metadata": {},
   "source": [
    "---\n",
    "\n",
    "## Part 2.: Reducing the Time Axis.\n",
    "**Task**: Modify the time axis to range from $0$ to $0.5$ and then re-run the code. Keep frequency at $f=5$\n"
   ]
  },
  {
   "cell_type": "code",
   "execution_count": null,
   "id": "86208ff2-1c8d-4f4d-aed2-b80e80ef7977",
   "metadata": {},
   "outputs": [],
   "source": [
    "# Adjust the time axis to a shorter range\n",
    "time_start = 0\n",
    "time_end = 0.5\n",
    "t = np.linspace(time_start, time_end, 500)  # Time array (0 to 2pi)\n",
    "\n",
    "f = 5  # Frequency\n",
    "\n",
    "# Generate the sine wave for the same frequency\n",
    "wave = A * np.sin(2 * np.pi * f * t)\n",
    "\n",
    "# Plot the wave\n",
    "plt.plot(t, wave)\n",
    "plt.title(\"Single Wavelength Light Wave (Reduced Time Span)\")\n",
    "plt.xlabel(\"Time\")\n",
    "plt.ylabel(\"Amplitude\")\n",
    "plt.grid(True)\n",
    "plt.show()\n"
   ]
  },
  {
   "cell_type": "markdown",
   "id": "4e29a5a8-2fe4-4a60-b88d-7ff96f23270c",
   "metadata": {},
   "source": [
    "### Questions for Part 2:\n",
    "1. How many peaks do you see now compared to the original time range?\n",
    "2. What is the effect of reducing the time axis on the appearance of the wave? Try playing with the $time\\_end$ variable (either increasing or decreasing). You can also copy the code and create new blocks if it helps."
   ]
  },
  {
   "cell_type": "markdown",
   "id": "631b9577-a9c2-40f0-927c-5bd8f81c5645",
   "metadata": {},
   "source": [
    "### Answers for Part 2:\n",
    "\n",
    "Edit and enter your answer here"
   ]
  },
  {
   "cell_type": "markdown",
   "id": "ea82d334-54ea-457c-b069-50034f276345",
   "metadata": {},
   "source": [
    "---\n",
    "## Part 3: Combining Multiple Waves (Simulating White Light)\n",
    "\n",
    "Now, let's combine multiple sine waves (representing different wavelengths of light) to simulate white light.\n",
    "\n",
    "**Task**: Run the following code to generate the combined wave."
   ]
  },
  {
   "cell_type": "code",
   "execution_count": null,
   "id": "afa319a2-c32e-441a-badc-8b357ded65bf",
   "metadata": {},
   "outputs": [],
   "source": [
    "# Define multiple frequencies\n",
    "freqs = [freq1, freq1] # Arbitrary frequencies representing different colors\n",
    "\n",
    "time_start = 0\n",
    "time_end = .01\n",
    "t = np.linspace(time_start, time_end, 500)  # Time array (0 to 2pi)\n",
    "\n",
    "# Generate the sum of waves\n",
    "combined_wave = np.zeros_like(t)\n",
    "for f in freqs:\n",
    "    combined_wave += A * np.sin(2 * np.pi * f * t)\n",
    "\n",
    "# Plot the combined wave\n",
    "plt.plot(t, combined_wave)\n",
    "plt.title(\"Sum of Multiple Wavelengths (Simulating White Light, Reduced Time)\")\n",
    "plt.xlabel(\"Time\")\n",
    "plt.ylabel(\"Amplitude\")\n",
    "plt.grid(True)\n",
    "plt.show()\n"
   ]
  },
  {
   "cell_type": "markdown",
   "id": "a9cb65a2-5193-4e8f-81fb-1e3d06b92d70",
   "metadata": {},
   "source": [
    "### Questions for Part 3:\n",
    "\n",
    "1. What happens when you combine multiple sine waves of different frequencies?\n",
    "2. Does the combined wave still look like a sine wave? Why or why not?"
   ]
  },
  {
   "cell_type": "markdown",
   "id": "fef6358a-27c9-4b45-bee5-dd39b68f5c27",
   "metadata": {},
   "source": [
    "### Answers for Part 3:"
   ]
  },
  {
   "cell_type": "markdown",
   "id": "cfcc0c3f-6e00-4153-aaa2-8139c8592d10",
   "metadata": {},
   "source": [
    "---\n",
    "## Part 4: Fourier Analysis of the Combined Wave\n",
    "\n",
    "Now we will perform a Fourier transform to decompose the combined wave into its frequency components.\n",
    "\n",
    "**Task**: Run the Fourier transform code and observe the output."
   ]
  },
  {
   "cell_type": "code",
   "execution_count": null,
   "id": "58ca4a1a-6bdb-4462-9933-0f3cc31fb883",
   "metadata": {},
   "outputs": [],
   "source": [
    "from scipy.fft import fft, fftfreq\n",
    "\n",
    "# Perform Fourier Transform\n",
    "N = len(t)\n",
    "T = t[1] - t[0]  # Sampling interval\n",
    "yf = fft(combined_wave)\n",
    "xf = fftfreq(N, T)[:N//2]\n",
    "\n",
    "# Plot the Fourier Transform (showing the frequency components)\n",
    "plt.plot(xf, 2.0/N * np.abs(yf[:N//2]))\n",
    "plt.title(\"Fourier Transform (Frequency Components, Reduced Time)\")\n",
    "plt.xlabel(\"Frequency\")\n",
    "plt.ylabel(\"Amplitude\")\n",
    "plt.grid(True)\n",
    "plt.xlim([0, 5000])\n",
    "plt.show()"
   ]
  },
  {
   "cell_type": "markdown",
   "id": "5937283e-159c-4662-9716-cc7609f32a2f",
   "metadata": {},
   "source": [
    "### Questions for Part 4:\n",
    "\n",
    "1. Look at the Fourier transform plot. What do the peaks in the plot represent?\n",
    "2. How do the peaks relate to the frequencies of the individual sine waves you combined in the previous section?\n",
    "3. Why is Fourier analysis useful for breaking down complex signals like white light or other waveforms into their individual frequency components?"
   ]
  },
  {
   "cell_type": "markdown",
   "id": "3e4e8a9a-8ac4-4a62-8ee3-53d929ef4211",
   "metadata": {},
   "source": [
    "### Answers for Part 4:"
   ]
  },
  {
   "cell_type": "markdown",
   "id": "3341cb89-438d-42ba-ba23-aab1dc93665b",
   "metadata": {},
   "source": [
    "---\n",
    "## Part 5: Exploring the Nyquist Frequency\n",
    "\n",
    "The **Nyquist frequency** is the highest frequency that can be accurately captured with a given sampling rate. According to the **Nyquist theorem**, the sampling rate must be **at least twice the highest frequency present** in the signal to avoid **aliasing** (when high-frequency signals appear as lower frequencies due to under-sampling).\n",
    "\n",
    "**Task**: Let's experiment with changing the number of samples and observe how it affects the ability to capture the wave frequencies."
   ]
  },
  {
   "cell_type": "code",
   "execution_count": null,
   "id": "ee7c5779-a026-4cdc-a9af-c43dbf1b8a8b",
   "metadata": {},
   "outputs": [],
   "source": [
    "# Adjust the number of samples (sampling rate)\n",
    "\n",
    "fine_samples = 1000\n",
    "coarse_samples = 20 \n",
    "\n",
    "t_fine = np.linspace(0, np.pi, fine_samples)  # High sampling rate \n",
    "t_coarse = np.linspace(0, np.pi, coarse_samples)  # Low sampling rate\n",
    "\n",
    "# Generate the same sine wave for a single frequency (f = 10)\n",
    "wave_fine = A * np.sin(2 * np.pi * 10 * t_fine)\n",
    "wave_coarse = A * np.sin(2 * np.pi * 10 * t_coarse)\n",
    "\n",
    "# Plot the wave with different sampling rates\n",
    "plt.figure(figsize=(10, 6))\n",
    "\n",
    "plt.subplot(2, 1, 1)\n",
    "plt.plot(t_fine, wave_fine, label=\"Fine Sampling\")\n",
    "plt.title(\"Fine Sampling (1000 Samples)\")\n",
    "plt.xlabel(\"Time\")\n",
    "plt.ylabel(\"Amplitude\")\n",
    "plt.grid(True)\n",
    "\n",
    "plt.subplot(2, 1, 2)\n",
    "plt.plot(t_coarse, wave_coarse, 'o-', label=\"Coarse Sampling\", color='r')\n",
    "plt.title(\"Coarse Sampling (20 Samples)\")\n",
    "plt.xlabel(\"Time\")\n",
    "plt.ylabel(\"Amplitude\")\n",
    "plt.grid(True)\n",
    "\n",
    "plt.tight_layout()\n",
    "plt.show()\n"
   ]
  },
  {
   "cell_type": "markdown",
   "id": "c7bbab23-2470-416e-80b7-adfcebb02c7a",
   "metadata": {},
   "source": [
    "### Questions for Part 5:\n",
    "\n",
    "1. Compare the plots from the fine sampling and coarse sampling. How does reducing the number of samples affect your ability to resolve the wave?\n",
    "2. What happens to the shape of the wave when you reduce the number of samples?"
   ]
  },
  {
   "cell_type": "markdown",
   "id": "86dbb211-1519-4411-a37e-6ded10c27743",
   "metadata": {},
   "source": [
    "### Answers for Part 5:"
   ]
  },
  {
   "cell_type": "markdown",
   "id": "e456538b-fbaa-4e1a-89ba-15ccf8bc086c",
   "metadata": {},
   "source": [
    "---\n",
    "## Part 6: Nyquist Frequency and Aliasing\n",
    "\n",
    "Let’s investigate Nyquist frequency by setting the sampling rate at the Nyquist limit and below it to see the effects of aliasing. Remember, sampling rate must be **at leasttwice the highest frequency**. For example, if $f=10$, your Nyquist limit is $2*f$ or $20$. \n",
    "\n",
    "**Task**: Set up a scenario where the sampling rate is just at, or lower than, the Nyquist limit, and observe the results."
   ]
  },
  {
   "cell_type": "code",
   "execution_count": null,
   "id": "a1e08575-8ec9-4c84-a781-79f85a6ecbd1",
   "metadata": {},
   "outputs": [],
   "source": [
    "# Nyquist theorem: Sampling rate must be twice the highest frequency (f = 10)\n",
    "\n",
    "f = 10\n",
    "\n",
    "# Fine sampling (Nyquist limit)\n",
    "sampling_rate_fine = # Nyquist limit: twice above the frequency. What should be the value here?\n",
    "t_fine_nyquist = np.linspace(0, np.pi, int(sampling_rate_fine))\n",
    "\n",
    "# Coarse sampling (below Nyquist limit)\n",
    "sampling_rate_coarse = f / 2  # Sampling twice below the Nyquist limit\n",
    "t_coarse_nyquist = np.linspace(0, np.pi, int(sampling_rate_coarse))\n",
    "\n",
    "# Generate the wave\n",
    "wave_fine_nyquist = A * np.sin(2 * np.pi * 10 * t_fine_nyquist)\n",
    "wave_coarse_nyquist = A * np.sin(2 * np.pi * 10 * t_coarse_nyquist)\n",
    "\n",
    "# Plot the wave with different sampling rates (Nyquist limit vs below)\n",
    "plt.figure(figsize=(10, 6))\n",
    "\n",
    "plt.subplot(2, 1, 1)\n",
    "plt.plot(t_fine_nyquist, wave_fine_nyquist, label=\"At Nyquist Limit\")\n",
    "plt.title(\"Sampling at Nyquist Limit\")\n",
    "plt.xlabel(\"Time\")\n",
    "plt.ylabel(\"Amplitude\")\n",
    "plt.grid(True)\n",
    "\n",
    "plt.subplot(2, 1, 2)\n",
    "plt.plot(t_coarse_nyquist, wave_coarse_nyquist, 'o-', label=\"Below Nyquist Limit\", color='r')\n",
    "plt.title(\"Sampling Below Nyquist Limit (Aliasing)\")\n",
    "plt.xlabel(\"Time\")\n",
    "plt.ylabel(\"Amplitude\")\n",
    "plt.grid(True)\n",
    "\n",
    "plt.tight_layout()\n",
    "plt.show()\n"
   ]
  },
  {
   "cell_type": "markdown",
   "id": "3ba9079c-9213-4342-93fb-ce0802874007",
   "metadata": {},
   "source": [
    "### Questions for Part 6:\n",
    "\n",
    "1. What do you observe when sampling at the Nyquist limit versus below the Nyquist limit?\n",
    "2. Describe the effect of aliasing: How does the wave appear when sampled below the Nyquist frequency? Why does it appear distorted?"
   ]
  },
  {
   "cell_type": "markdown",
   "id": "68e0f897-b8be-48a1-aaf0-2e0622c1f886",
   "metadata": {},
   "source": [
    "### Answers for Part 6:"
   ]
  },
  {
   "cell_type": "markdown",
   "id": "66cb68f3-f562-4d35-b2a3-073e7d3d61d3",
   "metadata": {},
   "source": [
    "---\n",
    "## Conclusion\n",
    "\n",
    "In this lab exercise, you:\n",
    "\n",
    "- Simulated light waves using sine functions.\n",
    "- Combined multiple sine waves to represent \"white light.\"\n",
    "- Performed Fourier analysis to break down complex signals into their frequency components.\n",
    "- Explored how the Nyquist frequency and sampling rate affect the ability to capture and represent signals accurately, especially in relation to aliasing.\n",
    "\n",
    "### Final Questions:\n",
    "1. Why is it important to sample at a rate at least twice the highest frequency present in a signal (as per the Nyquist theorem)?\n",
    "2. How does aliasing affect real-world measurements in fields like meteorology and oceanography? Give examples (e.g., wind speed or ocean current measurements)."
   ]
  },
  {
   "cell_type": "markdown",
   "id": "69fbc5f0-e7d4-43a5-b6e9-c2efbd112250",
   "metadata": {},
   "source": [
    "### Answer to Final question:"
   ]
  },
  {
   "cell_type": "markdown",
   "id": "07c6c438-9280-4f83-bcb9-34a2fcf7afc1",
   "metadata": {},
   "source": []
  }
 ],
 "metadata": {
  "kernelspec": {
   "display_name": "Python (meteo203)",
   "language": "python",
   "name": "meteo203"
  },
  "language_info": {
   "codemirror_mode": {
    "name": "ipython",
    "version": 3
   },
   "file_extension": ".py",
   "mimetype": "text/x-python",
   "name": "python",
   "nbconvert_exporter": "python",
   "pygments_lexer": "ipython3",
   "version": "3.10.14"
  }
 },
 "nbformat": 4,
 "nbformat_minor": 5
}
