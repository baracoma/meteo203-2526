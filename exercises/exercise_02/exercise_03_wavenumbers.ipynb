{
 "cells": [
  {
   "cell_type": "markdown",
   "id": "583ddc95-aea4-45d8-9087-a90c427f4863",
   "metadata": {},
   "source": [
    "# Lab Exercise 03: Exploring Wavenumbers and Spatial Sampling in Temperature Measurements\n",
    "\n",
    "## Objective:\n",
    "In this exercise, you will simulate measuring temperature across a field and explore how the spacing between sensors affects your ability to detect spatial features. You will calculate the fundamental wavenumber and Nyquist wavenumber and observe how changing the sensor spacing impacts your measurements.\n",
    "\n",
    "**Answer** this notebook by updating the **Answers for Part. x** cell by **double clicking and typing your answers in a cell**. After finishing this notebook, upload in your github repository (**meteo203-2425-lastname/exercises/exercise_03_wavenumbers.ipynb**)"
   ]
  },
  {
   "cell_type": "markdown",
   "id": "ab91b4b3-5664-41bc-9051-b5440b61de93",
   "metadata": {},
   "source": [
    "---\n",
    "## Part 1: Simulating Temperature Across a Field\n",
    "\n",
    "Task: Simulate a temperature field that varies across a 100-meter-wide field. Assume that the temperature varies in a sinusoidal manner across the field."
   ]
  },
  {
   "cell_type": "code",
   "execution_count": null,
   "id": "60a8bcdb-e94e-4e21-8b97-44a9a2bd168f",
   "metadata": {},
   "outputs": [],
   "source": [
    "import numpy as np\n",
    "import matplotlib.pyplot as plt\n",
    "\n",
    "# Define the length of the field\n",
    "L = 100 # in meters\n",
    "\n",
    "# Define the wavelength of the temperature wave (e.g., temperature changes every 20 meters)\n",
    "wavelength = 20  # meters\n",
    "k = 2 * np.pi / wavelength  # wavenumber\n",
    "\n",
    "# Generate positions across the field (fine resolution)\n",
    "x_fine = np.linspace(0, L, 1000)  # 1000 points across the field\n",
    "\n",
    "# Generate the temperature variation across the field\n",
    "temperature = 10 + 5 * np.sin(k * x_fine)  # Sinusoidal temperature wave\n",
    "\n",
    "# Plot the temperature variation\n",
    "plt.plot(x_fine, temperature)\n",
    "plt.title(f\"Temperature Variation Across a {L} Meter Field\")\n",
    "plt.xlabel(\"Position (m)\")\n",
    "plt.ylabel(\"Temperature (°C)\")\n",
    "plt.grid(True)\n",
    "plt.show()\n"
   ]
  },
  {
   "cell_type": "markdown",
   "id": "3bb15b99-e5d8-4eb0-b439-859ca9d06e8e",
   "metadata": {},
   "source": [
    "### Questions:\n",
    "\n",
    "What does the wavelength represent in this context? How often does the temperature change across the field?"
   ]
  },
  {
   "cell_type": "markdown",
   "id": "67ba9095-762f-48de-b6e6-4e4b9ca6513c",
   "metadata": {},
   "source": []
  },
  {
   "cell_type": "markdown",
   "id": "d78a9a1f-c57b-42bb-8074-2123dc1b00fc",
   "metadata": {},
   "source": [
    "---\n",
    "## Part 2: Exploring Sensor Spacing\n",
    "\n",
    "Now, we’ll simulate measuring the temperature using sensors placed at regular intervals across the field.\n",
    "\n",
    "Task: Change the sensor spacing and observe how well you can capture the temperature wave."
   ]
  },
  {
   "cell_type": "code",
   "execution_count": null,
   "id": "0d65e0a2-1f86-40b6-8561-1575f153749a",
   "metadata": {},
   "outputs": [],
   "source": [
    "# Define the sensor spacing (e.g., 5 meters)\n",
    "sensor_spacing = 5  # meters\n",
    "\n",
    "# Generate positions where the sensors are placed\n",
    "x_sensors = np.arange(0, L + sensor_spacing, sensor_spacing)  # Sensor positions\n",
    "\n",
    "# Measure the temperature at the sensor positions\n",
    "temperature_sensors = 10 + 5 * np.sin(k * x_sensors)\n",
    "\n",
    "# Plot the temperature measured by the sensors\n",
    "plt.plot(x_fine, temperature, label=\"True Temperature\")\n",
    "plt.plot(x_sensors, temperature_sensors, 'o-', label=\"Measured by Sensors\", color='r')\n",
    "plt.title(f\"Temperature Measurement with {sensor_spacing} Meter Spacing\")\n",
    "plt.xlabel(\"Position (m)\")\n",
    "plt.ylabel(\"Temperature (°C)\")\n",
    "plt.legend()\n",
    "plt.grid(True)\n",
    "plt.show()\n"
   ]
  },
  {
   "cell_type": "markdown",
   "id": "3e72e4a4-4fb9-4591-b643-d80bf3bc6f57",
   "metadata": {},
   "source": [
    "### Questions:\n",
    "\n",
    "1. How well does the sensor-based measurement (red line) match the true temperature variation?\n",
    "2. What would happen if the spacing between the sensors was larger? Change the sensor spacing to 10 meters and re-run the code."
   ]
  },
  {
   "cell_type": "markdown",
   "id": "f10fc4fd-7225-40fd-8ab7-936ca1a59d81",
   "metadata": {},
   "source": [
    "---\n",
    "## Part 3: Calculating Fundamental and Nyquist Wavenumbers\n",
    "\n",
    "Task: Calculate the fundamental wavenumber and Nyquist wavenumber for the given scenario.\n",
    "\n",
    "- The fundamental wavenumber represents the longest wave (or temperature trend) that spans the entire field.\n",
    "- The Nyquist wavenumber represents the shortest wave that can be detected by your sensors."
   ]
  },
  {
   "cell_type": "code",
   "execution_count": null,
   "id": "c0991689-cbf5-4d13-be4b-4e33fd8bce36",
   "metadata": {},
   "outputs": [],
   "source": [
    "# Calculate the fundamental wavenumber\n",
    "L = 100  # Length of the field in meters\n",
    "k_0 = 2 * np.pi / L  # Fundamental wavenumber\n",
    "\n",
    "# Calculate the Nyquist wavenumber based on sensor spacing\n",
    "sensor_spacing = 5\n",
    "k_n = np.pi / sensor_spacing  # Nyquist wavenumber\n",
    "\n",
    "# Print the results\n",
    "print(f\"Fundamental Wavenumber: {k_0:.3f} radians/m\")\n",
    "print(f\"Nyquist Wavenumber (with {sensor_spacing}m spacing): {k_n:.3f} radians/m\")\n"
   ]
  },
  {
   "cell_type": "markdown",
   "id": "fc8b02e4-7911-4582-a439-8c99a142c245",
   "metadata": {},
   "source": [
    "### Questions:\n",
    "\n",
    "1. What is the fundamental wavenumber? What does this tell you about the largest feature (or longest wave) you can detect in the field?\n",
    "2. What is the Nyquist wavenumber for 5-meter spacing? What about for 10-meter spacing? How does increasing the sensor spacing affect your ability to detect smaller features?"
   ]
  },
  {
   "cell_type": "markdown",
   "id": "1b30ef86-d12a-4ed5-bfd1-1e2fb15f7cb2",
   "metadata": {},
   "source": []
  },
  {
   "cell_type": "markdown",
   "id": "83b00090-77ec-4e4b-a8c4-18e5a5efe73e",
   "metadata": {},
   "source": [
    "---\n",
    "### Part 4: Aliasing and Sampling Resolution\n",
    "\n",
    "When the sensor spacing becomes too large (i.e. sensors are further apart), we may not be able to detect certain temperature variations correctly due to aliasing. Let's explore this concept.\n",
    "\n",
    "Task: Increase the sensor spacing to 15 meters and observe the effect."
   ]
  },
  {
   "cell_type": "code",
   "execution_count": null,
   "id": "3e136698-23f2-4f6c-a47f-00096089d5b2",
   "metadata": {},
   "outputs": [],
   "source": [
    "# Increase the sensor spacing to 15 meters\n",
    "sensor_spacing =   # meters\n",
    "x_sensors = np.arange(0, L + sensor_spacing, sensor_spacing)\n",
    "temperature_sensors = 10 + 5 * np.sin(k * x_sensors)\n",
    "\n",
    "# Plot the result\n",
    "plt.plot(x_fine, temperature, label=\"True Temperature\")\n",
    "plt.plot(x_sensors, temperature_sensors, 'o-', label=\"Measured by Sensors (15m Spacing)\", color='r')\n",
    "plt.title(\"Temperature Measurement with 15 Meter Spacing (Aliasing)\")\n",
    "plt.xlabel(\"Position (m)\")\n",
    "plt.ylabel(\"Temperature (°C)\")\n",
    "plt.legend()\n",
    "plt.grid(True)\n",
    "plt.show()\n"
   ]
  },
  {
   "cell_type": "markdown",
   "id": "8724f096-7cc4-43da-bacb-d4de96c45e46",
   "metadata": {},
   "source": [
    "### Questions:\n",
    "\n",
    "1. What happens to the accuracy of your temperature measurements when the sensor spacing is increased to 15 meters?\n",
    "2. Explain aliasing in this context. Why does it occur when the sensor spacing exceeds a certain limit?"
   ]
  },
  {
   "cell_type": "markdown",
   "id": "9aa51e67-721a-426c-9e66-e76f491dc053",
   "metadata": {},
   "source": []
  },
  {
   "cell_type": "markdown",
   "id": "9758059d-d015-4123-85e3-b09d7abc9e45",
   "metadata": {},
   "source": [
    "### Final Questions\n",
    "\n",
    "1. How does sensor spacing affect your ability to resolve both large-scale and small-scale temperature changes across the field?\n",
    "2. How do the fundamental wavenumber and Nyquist wavenumber help you determine the types of temperature variations you can detect?\n",
    "3. Why is it important to consider both the spatial resolution (sensor spacing) and the wavenumbers when designing a measurement system for temperature or other physical parameters?"
   ]
  }
 ],
 "metadata": {
  "kernelspec": {
   "display_name": "Python (meteo203)",
   "language": "python",
   "name": "meteo203"
  },
  "language_info": {
   "codemirror_mode": {
    "name": "ipython",
    "version": 3
   },
   "file_extension": ".py",
   "mimetype": "text/x-python",
   "name": "python",
   "nbconvert_exporter": "python",
   "pygments_lexer": "ipython3",
   "version": "3.10.14"
  }
 },
 "nbformat": 4,
 "nbformat_minor": 5
}
